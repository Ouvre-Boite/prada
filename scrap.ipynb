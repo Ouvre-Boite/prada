{
 "cells": [
  {
   "cell_type": "markdown",
   "metadata": {
    "deletable": true,
    "editable": true
   },
   "source": [
    "# Scraping de la liste des PRADA sur le site de la CADA\n",
    "\n",
    "http://www.cada.fr/personnes-responsables,6059.html\n",
    "\n",
    "Car le formulaire n'est pas très convivial..."
   ]
  },
  {
   "cell_type": "code",
   "execution_count": 88,
   "metadata": {
    "collapsed": false,
    "deletable": true,
    "editable": true
   },
   "outputs": [],
   "source": [
    "import re\n",
    "import sys\n",
    "import pickle\n",
    "\n",
    "import requests\n",
    "from bs4 import BeautifulSoup"
   ]
  },
  {
   "cell_type": "markdown",
   "metadata": {},
   "source": [
    "# Scrap le formulaire"
   ]
  },
  {
   "cell_type": "code",
   "execution_count": 5,
   "metadata": {
    "collapsed": false
   },
   "outputs": [],
   "source": [
    "url = 'http://www.cada.fr/personnes-responsables,6059.html'\n",
    "response = requests.get(url)\n",
    "assert response.status_code == 200\n",
    "assert response.encoding == 'utf-8'\n",
    "text = response.text"
   ]
  },
  {
   "cell_type": "code",
   "execution_count": 9,
   "metadata": {
    "collapsed": false
   },
   "outputs": [],
   "source": [
    "soup = BeautifulSoup(text, 'html.parser')"
   ]
  },
  {
   "cell_type": "code",
   "execution_count": 19,
   "metadata": {
    "collapsed": false
   },
   "outputs": [],
   "source": [
    "form_type = soup.find(id=\"type\")\n",
    "list_type = [option['value'] for option in form_type.find_all('option')]"
   ]
  },
  {
   "cell_type": "code",
   "execution_count": 18,
   "metadata": {
    "collapsed": false
   },
   "outputs": [],
   "source": [
    "form_dept = soup.find(id=\"dept\")\n",
    "list_dept = [option['value'] for option in form_dept.find_all('option')]"
   ]
  },
  {
   "cell_type": "markdown",
   "metadata": {},
   "source": [
    "# Scrap toutes les combinaisons"
   ]
  },
  {
   "cell_type": "code",
   "execution_count": 86,
   "metadata": {
    "collapsed": false
   },
   "outputs": [
    {
     "name": "stdout",
     "output_type": "stream",
     "text": [
      "Scrapping category \"\"\n",
      "...........................................................................................................\n",
      "Scrapping category \"Autorité administrative indépendante\"\n",
      "...........................................................................................................\n",
      "Scrapping category \"Autre organisme privé\"\n",
      "...........................................................................................................\n",
      "Scrapping category \"Conseil départemental\"\n",
      "...........................................................................................................\n",
      "Scrapping category \"Conseil régional\"\n",
      "...........................................................................................................\n",
      "Scrapping category \"Établissement public d'État\"\n",
      "...........................................................................................................\n",
      "Scrapping category \"Établissement public territorial\"\n",
      ".Count mismatch (already known)\n",
      "..........................................................................................................\n",
      "Scrapping category \"Mairie\"\n",
      ".Count mismatch (already known)\n",
      "..........................................................................................................\n",
      "Scrapping category \"Organisme privé chargé de la gestion d'un service public\"\n",
      "...........................................................................................................\n",
      "Scrapping category \"Services de l'État\"\n",
      "...........................................................................................................\n"
     ]
    }
   ],
   "source": [
    "dict_prada = {}\n",
    "\n",
    "for type_admin in list_type:\n",
    "    dict_prada[type_admin] = {}\n",
    "    print('Scrapping category \"{}\"'.format(type_admin))\n",
    "    \n",
    "    for dept in list_dept:\n",
    "        sys.stdout.write('.')\n",
    "        sys.stdout.flush()\n",
    "        \n",
    "        data = {\n",
    "            'id_article': '6059',\n",
    "            'page': 'article',\n",
    "            'formulaire_action': 'prada',\n",
    "            'formulaire_action_args': 'u2Tfw6pP/715JbIUQ9MMpjPSoXmgRPgQIoIu6+OCRphktQbarUOE29+UgR9cPvRSSzHQJpMQwqaMmBWv+kY+FhObKxr+ec0=',\n",
    "            'type': type_admin,\n",
    "            'dept': dept,\n",
    "            'valide': '',\n",
    "            'nobot': '',\n",
    "        }\n",
    "\n",
    "        response = requests.post(url, data=data)\n",
    "        assert response.status_code == 200\n",
    "        assert response.encoding == 'utf-8'\n",
    "        text = response.text\n",
    "        \n",
    "        soup = BeautifulSoup(text, 'html.parser')\n",
    "        \n",
    "        chapo = soup.find(\"p\", { \"class\" : \"chapo\" }).get_text()\n",
    "        if chapo == \"Recherche infructueuse. Il y n'a pas de résultats pour ces critères de recherche\":\n",
    "            blocs = []\n",
    "        else:\n",
    "            nb_results = int(re.match('(\\d+) résultats pour vos critères de recherche ', chapo).groups()[0])\n",
    "\n",
    "            blocs = soup.findAll(\"div\", { \"class\" : \"block-article\" })\n",
    "            if len(blocs) != nb_results:\n",
    "                if (\n",
    "                    (type_admin == \"Établissement public territorial\" and \n",
    "                    dept == \"\" and \n",
    "                    len(blocs) == 612 and \n",
    "                    nb_results == 613)\n",
    "                    or\n",
    "                    (type_admin == \"Mairie\" and \n",
    "                    dept == \"\" and \n",
    "                    len(blocs) == 679 and \n",
    "                    nb_results == 680)\n",
    "                        ):\n",
    "                    print('Count mismatch (already known)')\n",
    "                else:\n",
    "                    raise ValueError('Count mismatch : {}, {}, {} vs {}'.format(type_admin, dept, len(blocs), nb_results))\n",
    "        \n",
    "        dict_prada[type_admin][dept] = blocs\n",
    "        \n",
    "    print('')\n",
    "      "
   ]
  },
  {
   "cell_type": "markdown",
   "metadata": {},
   "source": [
    "# Save the dict"
   ]
  },
  {
   "cell_type": "code",
   "execution_count": 95,
   "metadata": {
    "collapsed": false
   },
   "outputs": [],
   "source": [
    "dict_prada_str = {}\n",
    "\n",
    "for type_admin in list_type:\n",
    "    dict_prada_str[type_admin] = {}\n",
    "    for dept in list_dept:\n",
    "        blocs = dict_prada[type_admin][dept]\n",
    "        dict_prada_str[type_admin][dept] = [str(prada) for prada in blocs]"
   ]
  },
  {
   "cell_type": "code",
   "execution_count": 97,
   "metadata": {
    "collapsed": false
   },
   "outputs": [],
   "source": [
    "with open('dict_prada_str.pickle', 'wb') as f:\n",
    "    pickle.dump(dict_prada_str, f)"
   ]
  },
  {
   "cell_type": "code",
   "execution_count": 99,
   "metadata": {
    "collapsed": false
   },
   "outputs": [],
   "source": [
    "with open('dict_prada_str.pickle', 'rb') as f:\n",
    "    dict_prada_str = pickle.load(f)"
   ]
  },
  {
   "cell_type": "markdown",
   "metadata": {},
   "source": [
    "# Output the results"
   ]
  },
  {
   "cell_type": "code",
   "execution_count": 127,
   "metadata": {
    "collapsed": false
   },
   "outputs": [],
   "source": [
    "html_beginning = '''\n",
    "<!DOCTYPE html>\n",
    "<html lang=\"fr\">\n",
    "  <head>\n",
    "    <meta charset=\"utf-8\">\n",
    "    <title>Liste des PRADA</title>\n",
    "    <style>\n",
    "body {\n",
    "  font: 75%/1.5 Arial, Helvetica, sans-serif;\n",
    "  color: #535353;\n",
    "  background: #f2f2f2;\n",
    "}\n",
    "h2.titre_type {\n",
    "    margin-bottom: .5em;\n",
    "    color: #23aee3;\n",
    "    font-family: \"Trebuchet MS\", Verdana, \"Lucida Grande\", Tahoma, Helvetica, sans-serif;\n",
    "    font-size: 2.5em;\n",
    "    line-height: 1.25;\n",
    "}\n",
    "h2.titre_dept {\n",
    "    margin-bottom: .5em;\n",
    "    color: #23aee3;\n",
    "    font-family: \"Trebuchet MS\", Verdana, \"Lucida Grande\", Tahoma, Helvetica, sans-serif;\n",
    "    font-weight: normal;\n",
    "    font-size: 2em;\n",
    "    line-height: 1.25;\n",
    "}\n",
    "h2.h3 {\n",
    "    font-size: 1.3333333333333333em;\n",
    "    margin-bottom: .25em;\n",
    "    color: #244668;\n",
    "    font-weight: bold;\n",
    "    font-family: \"Trebuchet MS\", Verdana, \"Lucida Grande\", Tahoma, Helvetica, sans-serif;\n",
    "}\n",
    ".prada {\n",
    "    color: #23AEE3;\n",
    "    font-size: 16px;\n",
    "    margin-bottom: 0px;\n",
    "}\n",
    "    </style>\n",
    "  </head>\n",
    "  <body>\n",
    "'''\n",
    "\n",
    "html_end = '''\n",
    "  </body>\n",
    "</html>\n",
    "'''\n",
    "\n",
    "html_page = html_beginning\n",
    "\n",
    "for type_admin in list_type:\n",
    "    html_page += '<h2 class=\"titre_type\">{}</h2>'.format(type_admin or 'Toutes catégories')\n",
    "    for dept in list_dept:\n",
    "        html_page += '<h2 class=\"titre_dept\">{}</h2>'.format(dept or 'Tous les départements')\n",
    "        blocs = dict_prada_str[type_admin][dept]\n",
    "        for bloc in blocs:\n",
    "            html_page += bloc\n",
    "\n",
    "html_page += html_end"
   ]
  },
  {
   "cell_type": "code",
   "execution_count": 128,
   "metadata": {
    "collapsed": false
   },
   "outputs": [],
   "source": [
    "with open('Liste_PRADA.html', 'w') as f:\n",
    "    f.write(html_page)"
   ]
  }
 ],
 "metadata": {
  "kernelspec": {
   "display_name": "Python 3",
   "language": "python",
   "name": "python3"
  },
  "language_info": {
   "codemirror_mode": {
    "name": "ipython",
    "version": 3
   },
   "file_extension": ".py",
   "mimetype": "text/x-python",
   "name": "python",
   "nbconvert_exporter": "python",
   "pygments_lexer": "ipython3",
   "version": "3.5.2"
  }
 },
 "nbformat": 4,
 "nbformat_minor": 2
}
