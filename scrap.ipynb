{
 "cells": [
  {
   "cell_type": "markdown",
   "metadata": {
    "deletable": true,
    "editable": true
   },
   "source": [
    "# Scraping de la liste des PRADA sur le site de la CADA\n",
    "\n",
    "http://www.cada.fr/personnes-responsables,6059.html\n",
    "\n",
    "Car le formulaire n'est pas très convivial..."
   ]
  },
  {
   "cell_type": "code",
   "execution_count": 54,
   "metadata": {
    "collapsed": false,
    "deletable": true,
    "editable": true
   },
   "outputs": [],
   "source": [
    "import re\n",
    "import sys\n",
    "import pickle\n",
    "from collections import defaultdict\n",
    "\n",
    "import requests\n",
    "from bs4 import BeautifulSoup"
   ]
  },
  {
   "cell_type": "markdown",
   "metadata": {
    "deletable": true,
    "editable": true
   },
   "source": [
    "# Scrap le formulaire"
   ]
  },
  {
   "cell_type": "code",
   "execution_count": 67,
   "metadata": {
    "collapsed": false,
    "deletable": true,
    "editable": true
   },
   "outputs": [],
   "source": [
    "url = 'http://www.cada.fr/personnes-responsables,6059.html'\n",
    "response = requests.get(url)\n",
    "assert response.status_code == 200\n",
    "assert response.encoding == 'utf-8'\n",
    "text = response.text"
   ]
  },
  {
   "cell_type": "code",
   "execution_count": 68,
   "metadata": {
    "collapsed": false,
    "deletable": true,
    "editable": true
   },
   "outputs": [],
   "source": [
    "soup = BeautifulSoup(text, 'html.parser')"
   ]
  },
  {
   "cell_type": "code",
   "execution_count": 69,
   "metadata": {
    "collapsed": false,
    "deletable": true,
    "editable": true
   },
   "outputs": [],
   "source": [
    "form_type = soup.find(id=\"type\")\n",
    "list_type = [option['value'] for option in form_type.find_all('option')]"
   ]
  },
  {
   "cell_type": "code",
   "execution_count": 70,
   "metadata": {
    "collapsed": false,
    "deletable": true,
    "editable": true
   },
   "outputs": [],
   "source": [
    "form_dept = soup.find(id=\"dept\")\n",
    "list_dept = [option['value'] for option in form_dept.find_all('option')]"
   ]
  },
  {
   "cell_type": "markdown",
   "metadata": {
    "deletable": true,
    "editable": true
   },
   "source": [
    "# Scrap toutes les combinaisons"
   ]
  },
  {
   "cell_type": "code",
   "execution_count": 86,
   "metadata": {
    "collapsed": false,
    "deletable": true,
    "editable": true
   },
   "outputs": [
    {
     "name": "stdout",
     "output_type": "stream",
     "text": [
      "Scrapping category \"\"\n",
      "...........................................................................................................\n",
      "Scrapping category \"Autorité administrative indépendante\"\n",
      "...........................................................................................................\n",
      "Scrapping category \"Autre organisme privé\"\n",
      "...........................................................................................................\n",
      "Scrapping category \"Conseil départemental\"\n",
      "...........................................................................................................\n",
      "Scrapping category \"Conseil régional\"\n",
      "...........................................................................................................\n",
      "Scrapping category \"Établissement public d'État\"\n",
      "...........................................................................................................\n",
      "Scrapping category \"Établissement public territorial\"\n",
      ".Count mismatch (already known)\n",
      "..........................................................................................................\n",
      "Scrapping category \"Mairie\"\n",
      ".Count mismatch (already known)\n",
      "..........................................................................................................\n",
      "Scrapping category \"Organisme privé chargé de la gestion d'un service public\"\n",
      "...........................................................................................................\n",
      "Scrapping category \"Services de l'État\"\n",
      "...........................................................................................................\n"
     ]
    }
   ],
   "source": [
    "dict_prada = {}\n",
    "\n",
    "for type_admin in list_type:\n",
    "    dict_prada[type_admin] = {}\n",
    "    print('Scrapping category \"{}\"'.format(type_admin))\n",
    "    \n",
    "    for dept in list_dept:\n",
    "        sys.stdout.write('.')\n",
    "        sys.stdout.flush()\n",
    "        \n",
    "        data = {\n",
    "            'id_article': '6059',\n",
    "            'page': 'article',\n",
    "            'formulaire_action': 'prada',\n",
    "            'formulaire_action_args': 'u2Tfw6pP/715JbIUQ9MMpjPSoXmgRPgQIoIu6+OCRphktQbarUOE29+UgR9cPvRSSzHQJpMQwqaMmBWv+kY+FhObKxr+ec0=',\n",
    "            'type': type_admin,\n",
    "            'dept': dept,\n",
    "            'valide': '',\n",
    "            'nobot': '',\n",
    "        }\n",
    "\n",
    "        response = requests.post(url, data=data)\n",
    "        assert response.status_code == 200\n",
    "        assert response.encoding == 'utf-8'\n",
    "        text = response.text\n",
    "        \n",
    "        soup = BeautifulSoup(text, 'html.parser')\n",
    "        \n",
    "        chapo = soup.find(\"p\", { \"class\" : \"chapo\" }).get_text()\n",
    "        if chapo == \"Recherche infructueuse. Il y n'a pas de résultats pour ces critères de recherche\":\n",
    "            blocs = []\n",
    "        else:\n",
    "            nb_results = int(re.match('(\\d+) résultats pour vos critères de recherche ', chapo).groups()[0])\n",
    "\n",
    "            blocs = soup.findAll(\"div\", { \"class\" : \"block-article\" })\n",
    "            if len(blocs) != nb_results:\n",
    "                if (\n",
    "                    (type_admin == \"Établissement public territorial\" and \n",
    "                    dept == \"\" and \n",
    "                    len(blocs) == 612 and \n",
    "                    nb_results == 613)\n",
    "                    or\n",
    "                    (type_admin == \"Mairie\" and \n",
    "                    dept == \"\" and \n",
    "                    len(blocs) == 679 and \n",
    "                    nb_results == 680)\n",
    "                        ):\n",
    "                    print('Count mismatch (already known)')\n",
    "                else:\n",
    "                    raise ValueError('Count mismatch : {}, {}, {} vs {}'.format(type_admin, dept, len(blocs), nb_results))\n",
    "        \n",
    "        dict_prada[type_admin][dept] = blocs\n",
    "        \n",
    "    print('')\n",
    "      "
   ]
  },
  {
   "cell_type": "markdown",
   "metadata": {
    "deletable": true,
    "editable": true
   },
   "source": [
    "# Save the dict"
   ]
  },
  {
   "cell_type": "code",
   "execution_count": 95,
   "metadata": {
    "collapsed": false,
    "deletable": true,
    "editable": true
   },
   "outputs": [],
   "source": [
    "dict_prada_str = {}\n",
    "\n",
    "for type_admin in list_type:\n",
    "    dict_prada_str[type_admin] = {}\n",
    "    for dept in list_dept:\n",
    "        blocs = dict_prada[type_admin][dept]\n",
    "        dict_prada_str[type_admin][dept] = [str(prada) for prada in blocs]"
   ]
  },
  {
   "cell_type": "code",
   "execution_count": 97,
   "metadata": {
    "collapsed": false,
    "deletable": true,
    "editable": true
   },
   "outputs": [],
   "source": [
    "with open('dict_prada_str.pickle', 'wb') as f:\n",
    "    pickle.dump(dict_prada_str, f)"
   ]
  },
  {
   "cell_type": "code",
   "execution_count": 6,
   "metadata": {
    "collapsed": false,
    "deletable": true,
    "editable": true
   },
   "outputs": [],
   "source": [
    "with open('dict_prada_str.pickle', 'rb') as f:\n",
    "    dict_prada_str = pickle.load(f)"
   ]
  },
  {
   "cell_type": "markdown",
   "metadata": {},
   "source": [
    "# Remove mutiple occurrences"
   ]
  },
  {
   "cell_type": "code",
   "execution_count": 56,
   "metadata": {
    "collapsed": false
   },
   "outputs": [],
   "source": [
    "dict_by_bloc = defaultdict(list)\n",
    "for type_admin, tmp in dict_prada_str.items():\n",
    "    for dept, blocs in tmp.items():\n",
    "        for bloc in blocs:\n",
    "            dict_by_bloc[bloc].append((type_admin, dept))"
   ]
  },
  {
   "cell_type": "code",
   "execution_count": 60,
   "metadata": {
    "collapsed": false
   },
   "outputs": [],
   "source": [
    "list_prada = []\n",
    "for bloc, list_categories in dict_by_bloc.items():\n",
    "    l_type_admin = [categories[0] for categories in list_categories]\n",
    "    set_type_admin = set(l_type_admin) - set([''])    \n",
    "    assert(len(set_type_admin) <= 1)\n",
    "    if set_type_admin:\n",
    "        type_admin = list(set_type_admin)[0]\n",
    "    else:\n",
    "        type_admin = ''\n",
    "\n",
    "    l_dept = [categories[1] for categories in list_categories]\n",
    "    set_dept = set(l_dept) - set([''])\n",
    "    assert(len(set_dept) <= 1)\n",
    "    if set_dept:\n",
    "        dept = list(set_dept)[0]\n",
    "    else:\n",
    "        dept = ''\n",
    "\n",
    "    list_prada.append([type_admin, dept, bloc])"
   ]
  },
  {
   "cell_type": "code",
   "execution_count": 74,
   "metadata": {
    "collapsed": false
   },
   "outputs": [
    {
     "data": {
      "text/plain": [
       "1628"
      ]
     },
     "execution_count": 74,
     "metadata": {},
     "output_type": "execute_result"
    }
   ],
   "source": [
    "n_prada = len(list_prada)\n",
    "n_prada"
   ]
  },
  {
   "cell_type": "code",
   "execution_count": 72,
   "metadata": {
    "collapsed": false
   },
   "outputs": [],
   "source": [
    "dict_prada_str_deduplicated = {}\n",
    "for type_admin in list_type:\n",
    "    dict_prada_str_deduplicated[type_admin] = {}\n",
    "    for dept in list_dept:\n",
    "        dict_prada_str_deduplicated[type_admin][dept] = []\n",
    "    \n",
    "for type_admin, dept, bloc in list_prada:\n",
    "    dict_prada_str_deduplicated[type_admin][dept].append(bloc)"
   ]
  },
  {
   "cell_type": "markdown",
   "metadata": {},
   "source": [
    "# Sauvegarde le dictionnaire dédupliqué"
   ]
  },
  {
   "cell_type": "code",
   "execution_count": 75,
   "metadata": {
    "collapsed": true
   },
   "outputs": [],
   "source": [
    "with open('dict_prada_str_deduplicated.pickle', 'wb') as f:\n",
    "    pickle.dump(dict_prada_str_deduplicated, f)"
   ]
  },
  {
   "cell_type": "code",
   "execution_count": 76,
   "metadata": {
    "collapsed": true
   },
   "outputs": [],
   "source": [
    "with open('dict_prada_str_deduplicated.pickle', 'rb') as f:\n",
    "    dict_prada_str_deduplicated = pickle.load(f)"
   ]
  },
  {
   "cell_type": "markdown",
   "metadata": {
    "deletable": true,
    "editable": true
   },
   "source": [
    "# Output the results as html"
   ]
  },
  {
   "cell_type": "code",
   "execution_count": 79,
   "metadata": {
    "collapsed": false,
    "deletable": true,
    "editable": true
   },
   "outputs": [],
   "source": [
    "html_beginning = '''\n",
    "<!DOCTYPE html>\n",
    "<html lang=\"fr\">\n",
    "  <head>\n",
    "    <meta charset=\"utf-8\">\n",
    "    <title>Liste des PRADA</title>\n",
    "    <style>\n",
    "body {\n",
    "  font: 75%/1.5 Arial, Helvetica, sans-serif;\n",
    "  color: #535353;\n",
    "  background: #f2f2f2;\n",
    "}\n",
    "h2.titre_type {\n",
    "    margin-bottom: .5em;\n",
    "    color: #23aee3;\n",
    "    font-family: \"Trebuchet MS\", Verdana, \"Lucida Grande\", Tahoma, Helvetica, sans-serif;\n",
    "    font-size: 2.5em;\n",
    "    line-height: 1.25;\n",
    "}\n",
    "h2.titre_dept {\n",
    "    margin-bottom: .5em;\n",
    "    color: #23aee3;\n",
    "    font-family: \"Trebuchet MS\", Verdana, \"Lucida Grande\", Tahoma, Helvetica, sans-serif;\n",
    "    font-weight: normal;\n",
    "    font-size: 2em;\n",
    "    line-height: 1.25;\n",
    "}\n",
    "h2.h3 {\n",
    "    font-size: 1.3333333333333333em;\n",
    "    margin-bottom: .25em;\n",
    "    color: #244668;\n",
    "    font-weight: bold;\n",
    "    font-family: \"Trebuchet MS\", Verdana, \"Lucida Grande\", Tahoma, Helvetica, sans-serif;\n",
    "}\n",
    ".prada {\n",
    "    color: #23AEE3;\n",
    "    font-size: 16px;\n",
    "    margin-bottom: 0px;\n",
    "}\n",
    "    </style>\n",
    "  </head>\n",
    "  <body>\n",
    "'''\n",
    "\n",
    "html_end = '''\n",
    "  </body>\n",
    "</html>\n",
    "'''\n",
    "\n",
    "html_page = html_beginning\n",
    "\n",
    "html_page += 'Ce fichier contient {} PRADA.'.format(n_prada)\n",
    "\n",
    "for type_admin in list_type:\n",
    "    html_page += '<h2 class=\"titre_type\">{}</h2>'.format(type_admin or 'Sans catégorie')\n",
    "    for dept in list_dept:\n",
    "        html_page += '<h2 class=\"titre_dept\">{}</h2>'.format(dept or 'Sans département')\n",
    "        blocs = dict_prada_str_deduplicated[type_admin][dept]\n",
    "        for bloc in blocs:\n",
    "            html_page += bloc\n",
    "\n",
    "html_page += html_end"
   ]
  },
  {
   "cell_type": "code",
   "execution_count": 80,
   "metadata": {
    "collapsed": false,
    "deletable": true,
    "editable": true
   },
   "outputs": [],
   "source": [
    "with open('Liste_PRADA.html', 'w') as f:\n",
    "    f.write(html_page)"
   ]
  },
  {
   "cell_type": "markdown",
   "metadata": {
    "deletable": true,
    "editable": true
   },
   "source": [
    "# Cut the blocs"
   ]
  },
  {
   "cell_type": "code",
   "execution_count": 114,
   "metadata": {
    "collapsed": false,
    "deletable": true,
    "editable": true
   },
   "outputs": [],
   "source": [
    "regex = '<div class=\"block-article\"><h2 class=\"h3\">(.*)</h2><p class=\"prada\"><strong>(.*)</strong></p><p>(.*)</p></div>'\n",
    "\n",
    "list_prada = []\n",
    "for type_admin in list_type:\n",
    "    for dept in list_dept:\n",
    "        blocs = dict_prada_str[type_admin][dept]\n",
    "        for bloc in blocs:\n",
    "            administration, nom, autre = re.match(regex, bloc).groups()\n",
    "            autre = '; '.join([chunk for chunk in re.split('\\n|\\r|<br>|<br/>|</br>', autre) if chunk])\n",
    "            list_prada.append([type_admin, dept, administration, nom, autre])"
   ]
  },
  {
   "cell_type": "markdown",
   "metadata": {},
   "source": [
    "# Save as CSV"
   ]
  },
  {
   "cell_type": "code",
   "execution_count": 115,
   "metadata": {
    "collapsed": true
   },
   "outputs": [],
   "source": [
    "joined_string = ''.join([''.join(prada) for prada in list_prada])"
   ]
  },
  {
   "cell_type": "code",
   "execution_count": 116,
   "metadata": {
    "collapsed": false,
    "deletable": true,
    "editable": true,
    "scrolled": false
   },
   "outputs": [
    {
     "data": {
      "text/plain": [
       "' \"\\'(),-./0123456789;ABCDEFGHIJKLMNOPQRSTUVWXYZabcdefghijklmnopqrstuvwxyz\\xa0«°»ÇÈÉËÏÜàâçèéêëîïôûüÿœ–’'"
      ]
     },
     "execution_count": 116,
     "metadata": {},
     "output_type": "execute_result"
    }
   ],
   "source": [
    "used_chars = ''.join(sorted(list(set(joined_string))))\n",
    "used_chars"
   ]
  },
  {
   "cell_type": "code",
   "execution_count": 117,
   "metadata": {
    "collapsed": false
   },
   "outputs": [],
   "source": [
    "separator = '|'\n",
    "assert separator not in used_chars\n",
    "assert '\\n' not in used_chars"
   ]
  },
  {
   "cell_type": "code",
   "execution_count": 118,
   "metadata": {
    "collapsed": true
   },
   "outputs": [],
   "source": [
    "csv_content = '\\n'.join(separator.join(prada) for prada in list_prada)"
   ]
  },
  {
   "cell_type": "code",
   "execution_count": 119,
   "metadata": {
    "collapsed": false,
    "deletable": true,
    "editable": true
   },
   "outputs": [],
   "source": [
    "with open('Liste_PRADA.csv', 'w') as f:\n",
    "    f.write(csv_content)"
   ]
  },
  {
   "cell_type": "code",
   "execution_count": null,
   "metadata": {
    "collapsed": true
   },
   "outputs": [],
   "source": []
  }
 ],
 "metadata": {
  "kernelspec": {
   "display_name": "Python 3",
   "language": "python",
   "name": "python3"
  },
  "language_info": {
   "codemirror_mode": {
    "name": "ipython",
    "version": 3
   },
   "file_extension": ".py",
   "mimetype": "text/x-python",
   "name": "python",
   "nbconvert_exporter": "python",
   "pygments_lexer": "ipython3",
   "version": "3.5.2"
  }
 },
 "nbformat": 4,
 "nbformat_minor": 2
}
